{
 "cells": [
  {
   "cell_type": "markdown",
   "id": "862ccdab-25c8-4c94-8e59-34eb73a04847",
   "metadata": {},
   "source": [
    "# First step of the project, like preprocessing"
   ]
  },
  {
   "cell_type": "code",
   "execution_count": 12,
   "id": "dbf7eb0c-0b80-416f-841d-b603332b3af6",
   "metadata": {},
   "outputs": [],
   "source": [
    "import numpy as np\n",
   ]
  },
  {
   "cell_type": "markdown",
   "id": "cc7aa8f0-2d31-4acb-801c-08c59fc9e742",
   "metadata": {},
   "source": [
    "## define some functions and requirements\n",
    "You will need ...  \n",
    "Information can be found here: add useful links"
   ]
  },
  {
   "cell_type": "code",
   "execution_count": 13,
   "id": "d1321516-519a-459e-bf19-ac8cffbcc2e1",
   "metadata": {},
   "outputs": [],
   "source": [
    "def preprocessing_function(input_a, input_b):\n",
    "    # make some preprocessing here, such as scaling etc...\n",
    "    return input_a, input_b"
   ]
  },
  {
   "cell_type": "markdown",
   "id": "fe21f86e-596c-4c74-80a6-6660bca6f501",
   "metadata": {},
   "source": [
    "## Call the preproc function using the following arguments:\n",
    "* input a\n",
    "* input b\n",
    "\n",
    "use this to help users understand"
   ]
  },
  {
   "cell_type": "code",
   "execution_count": 14,
   "id": "391c6b29-c71c-499b-80b8-52184242347a",
   "metadata": {},
   "outputs": [],
   "source": [
    "for i, data in enumerate(range(10)):\n",
    "    preprocessing_function(i, data)"
   ]
  }
 ],
 "metadata": {
  "kernelspec": {
   "display_name": "Python [conda env:GNN_torch]",
   "language": "python",
   "name": "conda-env-GNN_torch-py"
  },
  "language_info": {
   "codemirror_mode": {
    "name": "ipython",
    "version": 3
   },
   "file_extension": ".py",
   "mimetype": "text/x-python",
   "name": "python",
   "nbconvert_exporter": "python",
   "pygments_lexer": "ipython3",
   "version": "3.10.8"
  }
 },
 "nbformat": 4,
 "nbformat_minor": 5
}
