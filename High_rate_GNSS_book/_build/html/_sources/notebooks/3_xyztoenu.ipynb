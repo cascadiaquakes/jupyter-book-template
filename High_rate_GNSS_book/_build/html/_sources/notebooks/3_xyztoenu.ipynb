{
 "cells": [
  {
   "cell_type": "code",
   "execution_count": 7,
   "id": "3812d0eb-611d-47ca-8a19-9b0b62126b6e",
   "metadata": {},
   "outputs": [],
   "source": [
    "from pathlib import Path\n",
    "import os\n",
    "from glob import glob\n",
    "import subprocess\n",
    "import shutil"
   ]
  },
  {
   "cell_type": "code",
   "execution_count": 8,
   "id": "db942858-2507-4a65-aec0-9a5fe5b8836a",
   "metadata": {},
   "outputs": [],
   "source": [
    "def get_x_y_z(path):\n",
    "    with open(path, 'r') as file:\n",
    "        for line in file:\n",
    "            if line.strip().endswith(\"APPROX POSITION XYZ\"):\n",
    "                return float(line.split()[0]), float(line.split()[1]), float(line.split()[2])\n",
    "            \n",
    "\n",
    "def convert_to_enu(year, path_result, path_rinex, station):\n",
    "    try:\n",
    "        dir_for_year = os.listdir(f\"./{year}/\")[:-1]\n",
    "    except:\n",
    "        dir_for_year = -1\n",
    "        logging.error(f\"no data for the year {year}\")\n",
    "    if dir_for_year != -1:\n",
    "        x, y, z = get_x_y_z(min(glob(f\"{path_rinex}/{year}/{station}/*o\"), key=os.path.getctime))\n",
    "        for day_dir in dir_for_year:\n",
    "            files_to_process = glob(f\"./{year}/{day_dir}/kin*\")\n",
    "            Path(f\"{path_result}_ENU/{year}/{day_dir}\").mkdir(parents=True, exist_ok=True)\n",
    "            Path(f\"{path_result}_XYZ/{year}/{day_dir}\").mkdir(parents=True, exist_ok=True)\n",
    "            for f in files_to_process:\n",
    "                out_name = f[-12:]\n",
    "                cp = subprocess.run([\"wsl\",  \"bash\", \"-ic\", f\"xyz2enu ./{year}/{day_dir}/kin_{out_name} {path_result}_ENU/{year}/{day_dir}/enu_{out_name} {x} {y} {z}\"], capture_output=True)\n",
    "                shutil.move(f\"./{year}/{day_dir}/kin_{out_name}\", f\"{path_result}_XYZ/{year}/{day_dir}/kin_{out_name}\")\n",
    "                if cp.returncode!=0:\n",
    "                    print(cp)\n",
    "                else:\n",
    "                    print(f\"{f} processed successfully\")"
   ]
  },
  {
   "cell_type": "code",
   "execution_count": 9,
   "id": "a695cdcd-1783-4e9b-b781-14e732efc9a7",
   "metadata": {},
   "outputs": [],
   "source": [
    "convert_to_enu(2017, \"./results_test2\", \"./raw_rinex\", 'albh')"
   ]
  },
  {
   "cell_type": "code",
   "execution_count": 46,
   "id": "65d10f9a-28dc-45f6-b61d-ea7134617296",
   "metadata": {},
   "outputs": [],
   "source": [
    "def clean_rep(year, path_rinex):\n",
    "    try:\n",
    "        shutil.rmtree(f\"{path_rinex}{year}\")\n",
    "    except OSError as e:\n",
    "        print(\"Error: %s : %s\" % (dir_path, e.strerror))"
   ]
  },
  {
   "cell_type": "code",
   "execution_count": 49,
   "id": "3e8d23f5-2217-43eb-acf9-f1733ceb41bd",
   "metadata": {},
   "outputs": [],
   "source": [
    "path_rinex = './raw_rinex/'\n",
    "year = 2018\n",
    "clean_rep(year, path_rinex)"
   ]
  },
  {
   "cell_type": "code",
   "execution_count": null,
   "id": "2ed81f11-3cfc-43cf-a796-43784a62cfb8",
   "metadata": {},
   "outputs": [],
   "source": []
  }
 ],
 "metadata": {
  "kernelspec": {
   "display_name": "Python [conda env:ppp_env]",
   "language": "python",
   "name": "conda-env-ppp_env-py"
  },
  "language_info": {
   "codemirror_mode": {
    "name": "ipython",
    "version": 3
   },
   "file_extension": ".py",
   "mimetype": "text/x-python",
   "name": "python",
   "nbconvert_exporter": "python",
   "pygments_lexer": "ipython3",
   "version": "3.11.5"
  }
 },
 "nbformat": 4,
 "nbformat_minor": 5
}
