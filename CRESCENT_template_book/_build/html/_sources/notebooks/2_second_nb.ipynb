{
 "cells": [
  {
   "cell_type": "markdown",
   "id": "ab0a16a8-29d5-4e92-a572-2d5e890b8a52",
   "metadata": {},
   "source": [
    "# Core of the project\n",
    "* in this notebook you process ...\n",
    "\n",
    "Requirements: ..."
   ]
  },
  {
   "cell_type": "code",
   "execution_count": null,
   "id": "b14f6c05-68b1-4f64-abd9-a839f0f48cb9",
   "metadata": {},
   "outputs": [],
   "source": [
    "import os"
   ]
  },
  {
   "cell_type": "markdown",
   "id": "b117d79b-df5f-4376-9634-b85698d7f164",
   "metadata": {},
   "source": [
    "## Function to process\n",
    "* more info\n",
    "* documentation"
   ]
  },
  {
   "cell_type": "code",
   "execution_count": 1,
   "id": "4359b2ce-5b63-41f9-a7f9-1989bf661c46",
   "metadata": {},
   "outputs": [],
   "source": [
    "def process_one_station(station, year):\n",
    "    print(f\"starting processing for station {station}, year {year}\")\n",
    "    processed_station = station\n",
    "    return processed_station"
   ]
  },
  {
   "cell_type": "code",
   "execution_count": 2,
   "id": "a05cbf6c-1212-4a42-b9ee-c31d8566ce58",
   "metadata": {},
   "outputs": [
    {
     "name": "stdout",
     "output_type": "stream",
     "text": [
      "starting processing for station albh, year 2010\n",
      "CPU times: total: 0 ns\n",
      "Wall time: 0 ns\n"
     ]
    }
   ],
   "source": [
    "%%time\n",
    "for i, station in enumerate(['albh']):\n",
    "    process_one_station(station, 2010)"
   ]
  }
 ],
 "metadata": {
  "kernelspec": {
   "display_name": "Python [conda env:GNN_torch]",
   "language": "python",
   "name": "conda-env-GNN_torch-py"
  },
  "language_info": {
   "codemirror_mode": {
    "name": "ipython",
    "version": 3
   },
   "file_extension": ".py",
   "mimetype": "text/x-python",
   "name": "python",
   "nbconvert_exporter": "python",
   "pygments_lexer": "ipython3",
   "version": "3.10.8"
  }
 },
 "nbformat": 4,
 "nbformat_minor": 5
}
