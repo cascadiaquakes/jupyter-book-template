{
 "cells": [
  {
   "cell_type": "markdown",
   "id": "862ccdab-25c8-4c94-8e59-34eb73a04847",
   "metadata": {},
   "source": [
    "# Downloading the data from earthscope"
   ]
  },
  {
   "cell_type": "code",
   "execution_count": 2,
   "id": "dbf7eb0c-0b80-416f-841d-b603332b3af6",
   "metadata": {},
   "outputs": [],
   "source": [
    "import requests\n",
    "from pathlib import Path\n",
    "import hatanaka\n",
    "from earthscope_sdk.auth.device_code_flow import DeviceCodeFlowSimple\n",
    "from earthscope_sdk.auth.auth_flow import NoTokensError\n",
    "import os"
   ]
  },
  {
   "cell_type": "markdown",
   "id": "cc7aa8f0-2d31-4acb-801c-08c59fc9e742",
   "metadata": {},
   "source": [
    "## earthscope authentication\n",
    "You will need to create an account and get a token fron the earthscope website to download data.\n",
    "Information can be found here: https://www.unavco.org/data/gps-gnss/data-access-methods/data-access-methods.html#searchdata"
   ]
  },
  {
   "cell_type": "code",
   "execution_count": null,
   "id": "fa053148-9c51-4e42-ae80-f3f788879f69",
   "metadata": {},
   "outputs": [],
   "source": [
    "# choose where you want the token saved - the default file name is sso_tokens.json\n",
    "token_path = \"./\""
   ]
  },
  {
   "cell_type": "code",
   "execution_count": 3,
   "id": "d1321516-519a-459e-bf19-ac8cffbcc2e1",
   "metadata": {},
   "outputs": [],
   "source": [
    "def download_data(token_path, year, dayOfYear, station, path_out):\n",
    "    url = f\"https://gage-data.earthscope.org/archive/gnss/rinex/obs/{year}/{dayOfYear}/{station}{dayOfYear}0.{str(year)[2:]}d.Z\"\n",
    "    print(url)\n",
    "    # create station folder (if it doesn't already exist)\n",
    "    station_path = f\"{path_out}{year}/{station}/\"\n",
    "    Path(station_path).mkdir(parents=True, exist_ok=True)\n",
    "    device_flow = DeviceCodeFlowSimple(Path(token_path))\n",
    "    try:\n",
    "        # get access token from local path\n",
    "        device_flow.get_access_token_refresh_if_necessary()\n",
    "    except NoTokensError:\n",
    "        # if no token was found locally, do the device code flow\n",
    "        device_flow.do_flow()\n",
    "    token = device_flow.access_token\n",
    "\n",
    "    # request a file and provide the token in the Authorization header\n",
    "    file_name = Path(url).name\n",
    "    directory_to_save_file = Path.cwd() # where you want to save the downloaded file \n",
    "\n",
    "    r = requests.get(url, headers={\"authorization\": f\"Bearer {token}\"})\n",
    "    if r.status_code == requests.codes.ok:\n",
    "        with open(station_path + file_name, 'wb') as f:\n",
    "            f.write(r.content)\n",
    "        hatanaka.decompress_on_disk(station_path + file_name)\n",
    "        os.remove(station_path + file_name)\n",
    "\n",
    "    else:\n",
    "        #problem occured\n",
    "        print(f\"failure: {r.status_code}, {r.reason}\")"
   ]
  },
  {
   "cell_type": "markdown",
   "id": "fe21f86e-596c-4c74-80a6-6660bca6f501",
   "metadata": {},
   "source": [
    "## Call the download function using the following arguments:\n",
    "* Token path (unavco token)\n",
    "* Year to download\n",
    "* day of the year to download: Format needs to be a sting with 3 char, for example the 3rd day of the year will be \"003\"\n",
    "* Station\n",
    "* path to folder where to save the file"
   ]
  },
  {
   "cell_type": "code",
   "execution_count": 5,
   "id": "391c6b29-c71c-499b-80b8-52184242347a",
   "metadata": {},
   "outputs": [
    {
     "name": "stdout",
     "output_type": "stream",
     "text": [
      "https://gage-data.earthscope.org/archive/gnss/rinex/obs/2020/001/albh0010.20d.Z\n"
     ]
    }
   ],
   "source": [
    "path_out = './raw_rinex/'\n",
    "\n",
    "for i, station in enumerate(['albh']):\n",
    "    for day in range(1, 2):\n",
    "        download_data(token_path, 2020, str(day).zfill(3), station, path_out)"
   ]
  }
 ],
 "metadata": {
  "kernelspec": {
   "display_name": "Python [conda env:zarr]",
   "language": "python",
   "name": "conda-env-zarr-py"
  },
  "language_info": {
   "codemirror_mode": {
    "name": "ipython",
    "version": 3
   },
   "file_extension": ".py",
   "mimetype": "text/x-python",
   "name": "python",
   "nbconvert_exporter": "python",
   "pygments_lexer": "ipython3",
   "version": "3.11.5"
  }
 },
 "nbformat": 4,
 "nbformat_minor": 5
}