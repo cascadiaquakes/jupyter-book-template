{
 "cells": [
  {
   "cell_type": "markdown",
   "id": "ab0a16a8-29d5-4e92-a572-2d5e890b8a52",
   "metadata": {},
   "source": [
    "# PRIDE PPP\n",
    "* in this notebook you process rinex files to position\n",
    "\n",
    "Requirements: Install PRIDE PPP https://github.com/PrideLab/PRIDE-PPPAR"
   ]
  },
  {
   "cell_type": "code",
   "execution_count": null,
   "id": "b14f6c05-68b1-4f64-abd9-a839f0f48cb9",
   "metadata": {},
   "outputs": [],
   "source": [
    "from pathlib import Path\n",
    "import subprocess\n",
    "import os\n",
    "import time\n",
    "import shutil"
   ]
  },
  {
   "cell_type": "markdown",
   "id": "b117d79b-df5f-4376-9634-b85698d7f164",
   "metadata": {},
   "source": [
    "## Function to call the PRIDE PPP-ar from python using subprocess\n",
    "* Station\n",
    "* Year to process\n",
    "\n",
    "The function reads all avilable rinex from the download directory   \n",
    "Call to PRIDE PPP through linux subsystem here, modify the call to PRIDE PPP to match your system"
   ]
  },
  {
   "cell_type": "code",
   "execution_count": 6,
   "id": "4359b2ce-5b63-41f9-a7f9-1989bf661c46",
   "metadata": {},
   "outputs": [],
   "source": [
    "def process_one_station(station, year):\n",
    "    print(f\"starting processing for station {station}, year {year}\")\n",
    "    for file in os.listdir(f\"./raw_rinex/{year}/{station}/\"):\n",
    "        print(f\"starting processing file {file}\")\n",
    "        cp = subprocess.run([\"wsl\",  \"bash\", \"-ic\", f\"pdp3 -m k ./raw_rinex/{year}/{station}/{file}\"], capture_output=True)\n",
    "        print(cp)"
   ]
  },
  {
   "cell_type": "code",
   "execution_count": 7,
   "id": "a05cbf6c-1212-4a42-b9ee-c31d8566ce58",
   "metadata": {},
   "outputs": [
    {
     "name": "stdout",
     "output_type": "stream",
     "text": [
      "starting processing for station albh, year 2010\n",
      "starting processing file albh0010.10o\n",
      "CompletedProcess(args=['wsl', 'bash', '-ic', 'pdp3 -m k ./raw_rinex/2010/albh/albh0010.10o'], returncode=0, stdout=b'\\x1b[1;34m===>\\x1b[0m CheckExecutables ...\\n\\x1b[1;34m===>\\x1b[0m CheckExecutables done\\n\\x1b[1;34m::\\x1b[0m Processing time range: 2010-01-01 00:00:00.000 <==> 2010-01-01 23:59:30.000\\n\\x1b[1;34m::\\x1b[0m Processing interval: 30\\n\\x1b[1;34m::\\x1b[0m Site name: albh\\n\\x1b[1;34m::\\x1b[0m Positioning mode: K\\n\\x1b[1;34m::\\x1b[0m AR switch: A\\n\\x1b[1;34m::\\x1b[0m Configuration file: /home/loicb/.PRIDE_PPPAR_BIN/config_template\\n\\x1b[1;34m::\\x1b[0m RINEX observation file: /mnt/c/Users/loicb/Documents/PPP_script/raw_rinex/2010/albh/albh0010.10o\\n\\x1b[1;34m===>\\x1b[0m ProcessSingleSession from 2010 001 to 2010 001 ...\\n\\x1b[1;34m===>\\x1b[0m PrepareTables ...\\n\\x1b[1;34m===>\\x1b[0m PrepareTables done\\n\\x1b[1;34m===>\\x1b[0m PrepareRinexNav ...\\n\\x1b[0;31merror:\\x1b[0m failed to merge RINEX navigation files: brdc0010.10n brdc0010.10g -> brdm0010.10p\\n\\x1b[0;31merror:\\x1b[0m PrepareRinexNav failed\\n\\x1b[0;31merror:\\x1b[0m from 2010 001 to 2010 001 processing failed\\n', stderr=b'/home/loicb/.PRIDE_PPPAR_BIN/pdp3: line 526: bc: command not found\\n/home/loicb/.PRIDE_PPPAR_BIN/pdp3: line 527: bc: command not found\\n/home/loicb/.PRIDE_PPPAR_BIN/pdp3: line 569: bc: command not found\\n/home/loicb/.PRIDE_PPPAR_BIN/pdp3: line 569: bc: command not found\\n/home/loicb/.PRIDE_PPPAR_BIN/pdp3: line 569: bc: command not found\\n/home/loicb/.PRIDE_PPPAR_BIN/pdp3: line 569: bc: command not found\\n/home/loicb/.PRIDE_PPPAR_BIN/pdp3: line 569: bc: command not found\\n/home/loicb/.PRIDE_PPPAR_BIN/pdp3: line 569: bc: command not found\\n/home/loicb/.PRIDE_PPPAR_BIN/pdp3: line 569: bc: command not found\\n/home/loicb/.PRIDE_PPPAR_BIN/pdp3: line 569: bc: command not found\\n/home/loicb/.PRIDE_PPPAR_BIN/pdp3: line 569: bc: command not found\\n/home/loicb/.PRIDE_PPPAR_BIN/pdp3: line 569: bc: command not found\\n/home/loicb/.PRIDE_PPPAR_BIN/pdp3: line 569: bc: command not found\\n/home/loicb/.PRIDE_PPPAR_BIN/pdp3: line 569: bc: command not found\\n/home/loicb/.PRIDE_PPPAR_BIN/pdp3: line 569: bc: command not found\\n/home/loicb/.PRIDE_PPPAR_BIN/pdp3: line 569: bc: command not found\\n/home/loicb/.PRIDE_PPPAR_BIN/pdp3: line 569: bc: command not found\\n/home/loicb/.PRIDE_PPPAR_BIN/pdp3: line 569: bc: command not found\\n/home/loicb/.PRIDE_PPPAR_BIN/pdp3: line 569: bc: command not found\\n/home/loicb/.PRIDE_PPPAR_BIN/pdp3: line 579: bc: command not found\\n/home/loicb/.PRIDE_PPPAR_BIN/pdp3: line 584: bc: command not found\\n/home/loicb/.PRIDE_PPPAR_BIN/pdp3: line 597: bc: command not found\\n/home/loicb/.PRIDE_PPPAR_BIN/pdp3: line 666: bc: command not found\\n/home/loicb/.PRIDE_PPPAR_BIN/pdp3: /home/loicb/.PRIDE_PPPAR_BIN/merge2brdm.py: /usr/bin/python: bad interpreter: No such file or directory\\n')\n",
      "CPU times: total: 15.6 ms\n",
      "Wall time: 5.49 s\n"
     ]
    }
   ],
   "source": [
    "%%time\n",
    "for i, station in enumerate(['albh']):\n",
    "    process_one_station(station, 2010)"
   ]
  }
 ],
 "metadata": {
  "kernelspec": {
   "display_name": "Python [conda env:zarr]",
   "language": "python",
   "name": "conda-env-zarr-py"
  },
  "language_info": {
   "codemirror_mode": {
    "name": "ipython",
    "version": 3
   },
   "file_extension": ".py",
   "mimetype": "text/x-python",
   "name": "python",
   "nbconvert_exporter": "python",
   "pygments_lexer": "ipython3",
   "version": "3.11.5"
  }
 },
 "nbformat": 4,
 "nbformat_minor": 5
}